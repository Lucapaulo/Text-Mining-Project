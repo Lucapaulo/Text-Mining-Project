{
 "cells": [
  {
   "cell_type": "code",
   "execution_count": 49,
   "metadata": {},
   "outputs": [],
   "source": [
    "## Text Mining Project\n",
    "# imports\n",
    "import pandas as pd\n",
    "import json\n",
    "import re\n",
    "import lyricsgenius"
   ]
  },
  {
   "cell_type": "code",
   "execution_count": 5,
   "metadata": {},
   "outputs": [
    {
     "name": "stdout",
     "output_type": "stream",
     "text": [
      "Searching for songs by Trailerpark...\n",
      "\n",
      "Song 1: \"Alles Für Ein Shirt\"\n",
      "Song 2: \"Als gelesen markiert\"\n",
      "Song 3: \"Aragorn\"\n",
      "\n",
      "Reached user-specified song limit (3).\n",
      "Done. Found 3 songs.\n",
      "[('Alles Für Ein Shirt', 'Trailerpark'), ('Als gelesen markiert', 'Trailerpark'), ('Aragorn', 'Trailerpark')]\n"
     ]
    }
   ],
   "source": [
    "# Initialize genius (https://github.com/johnwmillr/LyricsGenius)\n",
    "token = \"jseKMRjvPp2qeRl5q9M2PpNUFtBJ-KeyTOpPHmOriyhSmSiFUKysDIceAbxWoBeT\"\n",
    "genius = lyricsgenius.Genius(token)"
   ]
  },
  {
   "cell_type": "code",
   "execution_count": 61,
   "metadata": {
    "scrolled": true
   },
   "outputs": [
    {
     "ename": "TypeError",
     "evalue": "'Song' object is not subscriptable",
     "output_type": "error",
     "traceback": [
      "\u001b[0;31m---------------------------------------------------------------------------\u001b[0m",
      "\u001b[0;31mTypeError\u001b[0m                                 Traceback (most recent call last)",
      "\u001b[0;32m<ipython-input-61-18ae1c5b2b6f>\u001b[0m in \u001b[0;36m<module>\u001b[0;34m()\u001b[0m\n\u001b[1;32m      1\u001b[0m \u001b[0mall_artists\u001b[0m \u001b[0;34m=\u001b[0m \u001b[0;34m[\u001b[0m\u001b[0;34m'187 Strassenbande'\u001b[0m\u001b[0;34m,\u001b[0m \u001b[0;34m'AK AUSSERKONTROLLE'\u001b[0m\u001b[0;34m,\u001b[0m \u001b[0;34m'Absolute Beginner'\u001b[0m\u001b[0;34m,\u001b[0m \u001b[0;34m'Alligatoah'\u001b[0m\u001b[0;34m,\u001b[0m \u001b[0;34m'Apache 207'\u001b[0m\u001b[0;34m,\u001b[0m \u001b[0;34m'Azad'\u001b[0m\u001b[0;34m,\u001b[0m \u001b[0;34m'Azet'\u001b[0m\u001b[0;34m,\u001b[0m \u001b[0;34m'Badmómzjay'\u001b[0m\u001b[0;34m,\u001b[0m \u001b[0;34m'Bausa'\u001b[0m\u001b[0;34m,\u001b[0m \u001b[0;34m'Beginner'\u001b[0m\u001b[0;34m,\u001b[0m \u001b[0;34m'Bonez MC'\u001b[0m\u001b[0;34m,\u001b[0m \u001b[0;34m'Bushido'\u001b[0m\u001b[0;34m,\u001b[0m \u001b[0;34m'Capital Bra'\u001b[0m\u001b[0;34m,\u001b[0m \u001b[0;34m'Casper'\u001b[0m\u001b[0;34m,\u001b[0m \u001b[0;34m'Celo & Abdi'\u001b[0m\u001b[0;34m,\u001b[0m \u001b[0;34m'Chakuza'\u001b[0m\u001b[0;34m,\u001b[0m \u001b[0;34m'Cro'\u001b[0m\u001b[0;34m,\u001b[0m \u001b[0;34m'Culcha Candela'\u001b[0m\u001b[0;34m,\u001b[0m \u001b[0;34m'CÉLINE'\u001b[0m\u001b[0;34m,\u001b[0m \u001b[0;34m'Dardan'\u001b[0m\u001b[0;34m,\u001b[0m \u001b[0;34m'Deichkind'\u001b[0m\u001b[0;34m,\u001b[0m \u001b[0;34m'Die Atzen'\u001b[0m\u001b[0;34m,\u001b[0m \u001b[0;34m'Die Fantastischen Vier'\u001b[0m\u001b[0;34m,\u001b[0m \u001b[0;34m'Eko Fresh'\u001b[0m\u001b[0;34m,\u001b[0m \u001b[0;34m'Eno'\u001b[0m\u001b[0;34m,\u001b[0m \u001b[0;34m'Farid Bang'\u001b[0m\u001b[0;34m,\u001b[0m \u001b[0;34m'Fero47'\u001b[0m\u001b[0;34m,\u001b[0m \u001b[0;34m'Fettes Brot'\u001b[0m\u001b[0;34m,\u001b[0m \u001b[0;34m'Fler'\u001b[0m\u001b[0;34m,\u001b[0m \u001b[0;34m'Freundeskreis'\u001b[0m\u001b[0;34m,\u001b[0m \u001b[0;34m'Genetikk'\u001b[0m\u001b[0;34m,\u001b[0m \u001b[0;34m'Gzuz'\u001b[0m\u001b[0;34m,\u001b[0m \u001b[0;34m'Haftbefehl'\u001b[0m\u001b[0;34m,\u001b[0m \u001b[0;34m'Jamule'\u001b[0m\u001b[0;34m,\u001b[0m \u001b[0;34m'Jan Delay'\u001b[0m\u001b[0;34m,\u001b[0m \u001b[0;34m'Joker Bra'\u001b[0m\u001b[0;34m,\u001b[0m \u001b[0;34m'Juju'\u001b[0m\u001b[0;34m,\u001b[0m \u001b[0;34m'K.I.Z'\u001b[0m\u001b[0;34m,\u001b[0m \u001b[0;34m'KC Rebell'\u001b[0m\u001b[0;34m,\u001b[0m \u001b[0;34m'Kay One'\u001b[0m\u001b[0;34m,\u001b[0m \u001b[0;34m'Kollegah'\u001b[0m\u001b[0;34m,\u001b[0m \u001b[0;34m'Kontra K'\u001b[0m\u001b[0;34m,\u001b[0m \u001b[0;34m'Kool Savas'\u001b[0m\u001b[0;34m,\u001b[0m \u001b[0;34m'Kraftklub'\u001b[0m\u001b[0;34m,\u001b[0m \u001b[0;34m'Loredana'\u001b[0m\u001b[0;34m,\u001b[0m \u001b[0;34m'Luciano'\u001b[0m\u001b[0;34m,\u001b[0m \u001b[0;34m'MERO'\u001b[0m\u001b[0;34m,\u001b[0m \u001b[0;34m'Marteria'\u001b[0m\u001b[0;34m,\u001b[0m \u001b[0;34m'Max Herre'\u001b[0m\u001b[0;34m,\u001b[0m \u001b[0;34m'MoTrip'\u001b[0m\u001b[0;34m,\u001b[0m \u001b[0;34m'Money Boy'\u001b[0m\u001b[0;34m,\u001b[0m \u001b[0;34m'Moses Pelham'\u001b[0m\u001b[0;34m,\u001b[0m \u001b[0;34m'Nana'\u001b[0m\u001b[0;34m,\u001b[0m \u001b[0;34m'Nimo'\u001b[0m\u001b[0;34m,\u001b[0m \u001b[0;34m'Olexesh'\u001b[0m\u001b[0;34m,\u001b[0m \u001b[0;34m'Peter Fox'\u001b[0m\u001b[0;34m,\u001b[0m \u001b[0;34m'Prinz Pi'\u001b[0m\u001b[0;34m,\u001b[0m \u001b[0;34m'RAF Camora'\u001b[0m\u001b[0;34m,\u001b[0m \u001b[0;34m'RIN'\u001b[0m\u001b[0;34m,\u001b[0m \u001b[0;34m'Rödelheim Hartreim Projekt'\u001b[0m\u001b[0;34m,\u001b[0m \u001b[0;34m'SSIO'\u001b[0m\u001b[0;34m,\u001b[0m \u001b[0;34m'SXTN'\u001b[0m\u001b[0;34m,\u001b[0m \u001b[0;34m'Sabrina Setlur'\u001b[0m\u001b[0;34m,\u001b[0m \u001b[0;34m'Samra'\u001b[0m\u001b[0;34m,\u001b[0m \u001b[0;34m'Samy Deluxe'\u001b[0m\u001b[0;34m,\u001b[0m \u001b[0;34m'Seeed'\u001b[0m\u001b[0;34m,\u001b[0m \u001b[0;34m'Shindy'\u001b[0m\u001b[0;34m,\u001b[0m \u001b[0;34m'Sido'\u001b[0m\u001b[0;34m,\u001b[0m \u001b[0;34m'Silla'\u001b[0m\u001b[0;34m,\u001b[0m \u001b[0;34m'Summer Cem'\u001b[0m\u001b[0;34m,\u001b[0m \u001b[0;34m'Tic Tac Toe'\u001b[0m\u001b[0;34m,\u001b[0m \u001b[0;34m'Trailerpark'\u001b[0m\u001b[0;34m,\u001b[0m \u001b[0;34m'Trettmann'\u001b[0m\u001b[0;34m,\u001b[0m \u001b[0;34m'Ufo361'\u001b[0m\u001b[0;34m,\u001b[0m \u001b[0;34m'Vega'\u001b[0m\u001b[0;34m,\u001b[0m \u001b[0;34m'Veysel'\u001b[0m\u001b[0;34m,\u001b[0m \u001b[0;34m'XATAR'\u001b[0m\u001b[0;34m,\u001b[0m \u001b[0;34m'Xavas'\u001b[0m\u001b[0;34m,\u001b[0m \u001b[0;34m'Yung Hurn'\u001b[0m\u001b[0;34m,\u001b[0m \u001b[0;34m'Zuna'\u001b[0m\u001b[0;34m]\u001b[0m\u001b[0;34m\u001b[0m\u001b[0m\n\u001b[0;32m----> 2\u001b[0;31m \u001b[0mprint\u001b[0m\u001b[0;34m(\u001b[0m\u001b[0martist\u001b[0m\u001b[0;34m.\u001b[0m\u001b[0msongs\u001b[0m\u001b[0;34m[\u001b[0m\u001b[0;36m0\u001b[0m\u001b[0;34m]\u001b[0m\u001b[0;34m[\u001b[0m\u001b[0;34m'lyrics'\u001b[0m\u001b[0;34m]\u001b[0m\u001b[0;34m)\u001b[0m\u001b[0;34m\u001b[0m\u001b[0m\n\u001b[0m",
      "\u001b[0;31mTypeError\u001b[0m: 'Song' object is not subscriptable"
     ]
    }
   ],
   "source": [
    "# Download the lyrics\n",
    "all_artists = ['187 Strassenbande', 'AK AUSSERKONTROLLE', 'Absolute Beginner', 'Alligatoah', 'Apache 207', 'Azad', 'Azet', 'Badmómzjay', 'Bausa', 'Beginner', 'Bonez MC', 'Bushido', 'Capital Bra', 'Casper', 'Celo & Abdi', 'Chakuza', 'Cro', 'Culcha Candela', 'CÉLINE', 'Dardan', 'Deichkind', 'Die Atzen', 'Die Fantastischen Vier', 'Eko Fresh', 'Eno', 'Farid Bang', 'Fero47', 'Fettes Brot', 'Fler', 'Freundeskreis', 'Genetikk', 'Gzuz', 'Haftbefehl', 'Jamule', 'Jan Delay', 'Joker Bra', 'Juju', 'K.I.Z', 'KC Rebell', 'Kay One', 'Kollegah', 'Kontra K', 'Kool Savas', 'Kraftklub', 'Loredana', 'Luciano', 'MERO', 'Marteria', 'Max Herre', 'MoTrip', 'Money Boy', 'Moses Pelham', 'Nana', 'Nimo', 'Olexesh', 'Peter Fox', 'Prinz Pi', 'RAF Camora', 'RIN', 'Rödelheim Hartreim Projekt', 'SSIO', 'SXTN', 'Sabrina Setlur', 'Samra', 'Samy Deluxe', 'Seeed', 'Shindy', 'Sido', 'Silla', 'Summer Cem', 'Tic Tac Toe', 'Trailerpark', 'Trettmann', 'Ufo361', 'Vega', 'Veysel', 'XATAR', 'Xavas', 'Yung Hurn', 'Zuna']\n",
    "for artist_name in all_artists:\n",
    "    artist = genius.search_artist(artist_name, sort=\"title\")\n",
    "    artist.save_lyrics()"
   ]
  },
  {
   "cell_type": "code",
   "execution_count": null,
   "metadata": {},
   "outputs": [],
   "source": [
    "# Store lyrics and relevant metadata in dataframe\n",
    "all_songs = pd.DataFrame(columns = ['Title', 'Artist', 'Release', 'Lyrics'])\n",
    "for artist_name in all_artists:\n",
    "    with open(f'Lyrics_{artist_name}.json') as json_file:\n",
    "        data = json.load(json_file)\n",
    "        for song in data['songs']:\n",
    "            title = song['title']\n",
    "            release = song['release_date']\n",
    "            lyrics_raw = song['lyrics']\n",
    "            lyrics = re.sub(\"[\\[].*?[\\]]\", \"\", lyrics_raw)\n",
    "            new_song = {'Title': title, 'Artist': artist_name, 'Release': release, 'Lyrics': lyrics}\n",
    "            all_songs = all_songs.append(new_song, ignore_index=True)"
   ]
  },
  {
   "cell_type": "code",
   "execution_count": null,
   "metadata": {},
   "outputs": [],
   "source": []
  }
 ],
 "metadata": {
  "kernelspec": {
   "display_name": "Python 3",
   "language": "python",
   "name": "python3"
  },
  "language_info": {
   "codemirror_mode": {
    "name": "ipython",
    "version": 3
   },
   "file_extension": ".py",
   "mimetype": "text/x-python",
   "name": "python",
   "nbconvert_exporter": "python",
   "pygments_lexer": "ipython3",
   "version": "3.7.0"
  }
 },
 "nbformat": 4,
 "nbformat_minor": 2
}
