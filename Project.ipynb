{
 "cells": [
  {
   "cell_type": "code",
   "execution_count": 97,
   "metadata": {},
   "outputs": [],
   "source": [
    "## Text Mining Project\n",
    "# imports\n",
    "import pandas as pd\n",
    "import matplotlib.pyplot as plt\n",
    "import numpy as np\n",
    "import json\n",
    "import re\n",
    "import lyricsgenius\n",
    "import time\n",
    "import spacy\n",
    "from gensim.corpora import Dictionary\n",
    "from gensim.models import Phrases\n",
    "from gensim.models import LdaModel\n",
    "import logging"
   ]
  },
  {
   "cell_type": "code",
   "execution_count": null,
   "metadata": {},
   "outputs": [],
   "source": [
    "# Genius token - https://genius.com/api-clients\n",
    "# Library - https://github.com/johnwmillr/LyricsGenius\n",
    "token = \"KbIhkIUKtt6IqQnUWh7KwZXWU8d-FduTSQfCnJWHQh97BVs07PisfSWIYs0uAwX6\"\n",
    "genius = lyricsgenius.Genius(token)"
   ]
  },
  {
   "cell_type": "code",
   "execution_count": 3,
   "metadata": {
    "scrolled": true
   },
   "outputs": [],
   "source": [
    "# Download the lyrics\n",
    "all_artists = ['187 Strassenbande', 'AK Ausserkontrolle', 'Alligatoah', 'Apache 207', 'Azad', 'Azet', 'badmómzjay', 'Bausa', 'Beginner', 'Bonez MC', 'Bushido', 'Capital Bra', 'Casper', 'Celo & Abdi', 'Chakuza', 'Cro', 'Culcha Candela', 'CÉLINE', 'Dardan', 'Deichkind', 'Die Atzen', 'Die Fantastischen Vier', 'Eko Fresh', 'Eno', 'Farid Bang', 'Fero47', 'Fettes Brot', 'Fler', 'Freundeskreis', 'Genetikk', 'Gzuz', 'Haftbefehl', 'Jamule', 'Jan Delay', 'Joker Bra', 'Juju', 'K.I.Z', 'KC Rebell', 'Kay One', 'Kollegah', 'Kontra K', 'Kool Savas', 'Kraftklub', 'Loredana', 'Luciano', 'MERO', 'Marteria', 'Max Herre', 'MoTrip', 'Money Boy', 'Moses Pelham', 'Nimo', 'Olexesh', 'Peter Fox', 'Prinz Pi', 'RAF Camora', 'RIN', 'Rödelheim Hartreim Projekt', 'SSIO', 'SXTN', 'Sabrina Setlur', 'Samra', 'Samy Deluxe', 'Seeed', 'Shindy', 'Sido', 'Silla', 'Summer Cem', 'Tic Tac Toe', 'Trailerpark', 'Trettmann', 'Ufo361', 'Veysel', 'XATAR', 'Xavas', 'Yung Hurn', 'Zuna']\n",
    "\n",
    "for artist_name in all_artists:\n",
    "    try:\n",
    "        artist = genius.search_artist(artist_name, sort=\"title\")\n",
    "        artist.save_lyrics()\n",
    "    except:\n",
    "        time.sleep(300)\n",
    "        artist = genius.search_artist(artist_name, sort=\"title\")\n",
    "        artist.save_lyrics()"
   ]
  },
  {
   "cell_type": "code",
   "execution_count": 42,
   "metadata": {
    "scrolled": true
   },
   "outputs": [
    {
     "name": "stdout",
     "output_type": "stream",
     "text": [
      "187 Strassenbande\n",
      "AK Ausserkontrolle\n",
      "Alligatoah\n",
      "Apache 207\n",
      "Azad\n",
      "Azet\n",
      "badmómzjay\n",
      "Bausa\n",
      "Beginner\n",
      "Bonez MC\n",
      "Bushido\n",
      "Capital Bra\n",
      "Casper\n",
      "Celo & Abdi\n",
      "Chakuza\n",
      "Cro\n",
      "Culcha Candela\n",
      "CÉLINE\n",
      "Dardan\n",
      "Deichkind\n",
      "Die Atzen\n",
      "Die Fantastischen Vier\n",
      "Eko Fresh\n",
      "Eno\n",
      "Farid Bang\n",
      "Fero47\n",
      "Fettes Brot\n",
      "Fler\n",
      "Freundeskreis\n",
      "Genetikk\n",
      "Gzuz\n",
      "Haftbefehl\n",
      "Jamule\n",
      "Jan Delay\n",
      "Joker Bra\n",
      "Juju\n",
      "K.I.Z\n",
      "KC Rebell\n",
      "Kay One\n",
      "Kollegah\n",
      "Kontra K\n",
      "Kool Savas\n",
      "Kraftklub\n",
      "Loredana\n",
      "Luciano\n",
      "MERO\n",
      "Marteria\n",
      "Max Herre\n",
      "MoTrip\n",
      "Money Boy\n",
      "Moses Pelham\n",
      "Nimo\n",
      "Olexesh\n",
      "Peter Fox\n",
      "Prinz Pi\n",
      "RAF Camora\n",
      "RIN\n",
      "Rödelheim Hartreim Projekt\n",
      "SSIO\n",
      "SXTN\n",
      "Sabrina Setlur\n",
      "Samra\n",
      "Samy Deluxe\n",
      "Seeed\n",
      "Shindy\n",
      "Sido\n",
      "Silla\n",
      "Summer Cem\n",
      "Tic Tac Toe\n",
      "Trailerpark\n",
      "Trettmann\n",
      "Ufo361\n",
      "Veysel\n",
      "XATAR\n",
      "Xavas\n",
      "Yung Hurn\n",
      "Zuna\n"
     ]
    }
   ],
   "source": [
    "# Store lyrics and relevant metadata in dataframe\n",
    "all_songs = pd.DataFrame(columns = ['Title', 'Artist', 'Release', 'Lyrics'])\n",
    "\n",
    "for artist_name in all_artists:\n",
    "    print(artist_name)\n",
    "    # Extract data from the json files\n",
    "    with open(f'Lyrics_{artist_name.replace(\" \", \"\").replace(\"&\", \"\")}.json') as json_file:\n",
    "        data = json.load(json_file)\n",
    "        for song in data['songs']:\n",
    "            title = song['title']\n",
    "            release = song['release_date']\n",
    "            lyrics_raw_raw = song['lyrics']\n",
    "            # Exclude songs without lyrics or release date, songs that contain brackets () and commentaries\n",
    "            if lyrics_raw_raw != None and release != None and not re.search(' \\(.*?\\)', title) and 'Commentary' not in title:\n",
    "                # Remove line breaks from lyrics\n",
    "                lyrics_raw = lyrics_raw_raw.replace('\\n', ' ')\n",
    "                # Remove brackets from the lyrics, as they only contain meta info and calls e.g. [Hook], (yeah!)                \n",
    "                lyrics = re.sub(\"[\\[].*?[\\]]|[\\(].*?[\\)]\", \"\", lyrics_raw)\n",
    "                # Filter lyrics with english parts\n",
    "                if not re.search('(?=.* the )(?=.* you )(?=.* and )', lyrics):\n",
    "                    new_song = {'Title': title, 'Artist': artist_name, 'Release': release, 'Lyrics': lyrics}\n",
    "                    all_songs = all_songs.append(new_song, ignore_index=True)"
   ]
  },
  {
   "cell_type": "code",
   "execution_count": 18,
   "metadata": {
    "scrolled": true
   },
   "outputs": [],
   "source": [
    "#print(test_frame[test_frame['Release'].isnull()])\n",
    "#print(test_frame[test_frame['Title'].str.contains(' \\(.*?\\)')])\n",
    "#print(all_songs[all_songs['Artist']=='SXTN'])\n",
    "#print(all_songs.iloc[8]['Lyrics'])"
   ]
  },
  {
   "cell_type": "code",
   "execution_count": 2,
   "metadata": {},
   "outputs": [],
   "source": [
    "nlp = spacy.load('de_core_news_lg')"
   ]
  },
  {
   "cell_type": "code",
   "execution_count": 136,
   "metadata": {},
   "outputs": [
    {
     "name": "stdout",
     "output_type": "stream",
     "text": [
      "Tokenization\n",
      "Adding bigrams\n",
      "Filtering extremes\n",
      "Compute BoW representation\n",
      "Number of unique tokens: 6829\n",
      "Number of documents: 7710\n"
     ]
    }
   ],
   "source": [
    "# Preprocessing\n",
    "docs = []\n",
    "\n",
    "print('Tokenization')\n",
    "# Tokenization and Lemmatization (remove stop words, numbers and one/two character words)\n",
    "for index, song in all_songs.iterrows():\n",
    "    doc = nlp(song['Lyrics'])\n",
    "    lemmatized_doc = [token.lemma_ for token in doc if not token.is_stop and token.lemma_.isalpha() and len(token)>2]\n",
    "    docs.append(lemmatized_doc)\n",
    "\n",
    "print('Adding bigrams')\n",
    "# Add bigrams that appear 20 times or more\n",
    "bigram = Phrases(docs, min_count=20)\n",
    "for idx in range(len(docs)):\n",
    "    for token in bigram[docs[idx]]:\n",
    "        if '_' in token:\n",
    "            # Token is a bigram, add to document\n",
    "            docs[idx].append(token)\n",
    "            \n",
    "print('Filtering extremes')\n",
    "# Filter extremes\n",
    "dictionary = Dictionary(docs)\n",
    "dictionary.filter_extremes(no_below=20, no_above=0.5)\n",
    "\n",
    "print('Compute BoW representation')\n",
    "# Bag-of-words representation of the documents\n",
    "corpus = [dictionary.doc2bow(doc) for doc in docs]\n",
    "\n",
    "temp = dictionary[0]\n",
    "id2word = dictionary.id2token\n",
    "\n",
    "print('Number of unique tokens: %d' % len(dictionary))\n",
    "print('Number of documents: %d' % len(corpus))"
   ]
  },
  {
   "cell_type": "code",
   "execution_count": 186,
   "metadata": {},
   "outputs": [],
   "source": [
    "def plot_passes(filename, passes):\n",
    "    matcher = re.compile('(-*\\d+\\.\\d+) per-word .* (\\d+\\.\\d+) perplexity')\n",
    "    likelihoods = []\n",
    "    with open(filename) as source:\n",
    "        for line in source:\n",
    "            match = matcher.search(line)\n",
    "            if match:\n",
    "                likelihoods.append(float(match.group(1)))\n",
    "    plt.plot(np.arange(0,passes,1), likelihoods, c=\"black\")\n",
    "    plt.ylabel(\"log liklihood\")\n",
    "    plt.xlabel(\"pass\")\n",
    "    plt.title(\"Topic Model Convergence\")\n",
    "    plt.grid()\n",
    "    plt.show()"
   ]
  },
  {
   "cell_type": "code",
   "execution_count": 101,
   "metadata": {},
   "outputs": [],
   "source": [
    "def create_logfile(filename):\n",
    "    for handler in logging.root.handlers[:]:\n",
    "        logging.root.removeHandler(handler)\n",
    "    logging.basicConfig(filename=filename,\n",
    "                        format=\"%(asctime)s:%(levelname)s:%(message)s\",\n",
    "                        level=logging.INFO)"
   ]
  },
  {
   "cell_type": "code",
   "execution_count": 174,
   "metadata": {},
   "outputs": [],
   "source": [
    "# Previous Observations: Words with two letters usually dont contribute -> tweak tokenization\n",
    "filename = 'gensim_3.log'\n",
    "create_logfile(filename)\n",
    "\n",
    "num_topics = 20\n",
    "chunksize = 1000\n",
    "passes = 50\n",
    "iterations = 1000\n",
    "\n",
    "\n",
    "lda_model = LdaModel(\n",
    "         corpus=corpus,\n",
    "         id2word=id2word,\n",
    "         num_topics=num_topics,\n",
    "         passes=passes,\n",
    "         iterations=iterations,\n",
    "         chunksize=chunksize,\n",
    "         alpha='auto',\n",
    "         eta='auto'\n",
    ")"
   ]
  },
  {
   "cell_type": "code",
   "execution_count": 175,
   "metadata": {
    "scrolled": true
   },
   "outputs": [
    {
     "data": {
      "image/png": "[encoded data removed]",
      "text/plain": [
       "<Figure size 432x288 with 1 Axes>"
      ]
     },
     "metadata": {
      "needs_background": "light"
     },
     "output_type": "display_data"
    },
    {
     "name": "stdout",
     "output_type": "stream",
     "text": [
      "20 Topics:\n"
     ]
    },
    {
     "data": {
      "text/plain": [
       "[(0,\n",
       "  '0.034*\"Straße\" + 0.022*\"heben\" + 0.019*\"Junge\" + 0.017*\"Kopf\" + 0.015*\"Jungs\" + 0.014*\"Knast\" + 0.014*\"this\" + 0.014*\"fett\" + 0.013*\"Freundin\" + 0.013*\"Dinger\"'),\n",
       " (1,\n",
       "  '0.109*\"ficke\" + 0.096*\"bitte\" + 0.076*\"Geben\" + 0.065*\"Auge_rot\" + 0.041*\"Ausweg\" + 0.027*\"Super\" + 0.023*\"Techno\" + 0.021*\"gekackt\" + 0.017*\"schmecken\" + 0.016*\"Wäsche\"'),\n",
       " (2,\n",
       "  '0.088*\"nehm\" + 0.045*\"Scheisse\" + 0.030*\"Teil\" + 0.016*\"bitter\" + 0.016*\"name\" + 0.015*\"Yes\" + 0.015*\"eigentlich\" + 0.013*\"around\" + 0.012*\"Bitte_bitte\" + 0.012*\"Siedlung\"'),\n",
       " (3,\n",
       "  '0.028*\"live\" + 0.012*\"Mann\" + 0.012*\"ein\" + 0.009*\"System\" + 0.007*\"draußen\" + 0.007*\"Leute\" + 0.007*\"Zahn\" + 0.006*\"hohl\" + 0.006*\"ficken\" + 0.006*\"lieb\"'),\n",
       " (4,\n",
       "  '0.068*\"Nacht\" + 0.054*\"Schnapp\" + 0.037*\"Streets\" + 0.030*\"Geld\" + 0.028*\"tanz\" + 0.023*\"jed_Kind\" + 0.017*\"sehn\" + 0.016*\"Competition\" + 0.016*\"Audemars_Piguet\" + 0.016*\"beweisen\"'),\n",
       " (5,\n",
       "  '0.195*\"siebzehn\" + 0.101*\"Rock\" + 0.043*\"geben\" + 0.042*\"lässt\" + 0.040*\"Hab\" + 0.026*\"DJ\" + 0.024*\"gedenken\" + 0.023*\"schaffen\" + 0.019*\"Draußen\" + 0.018*\"sing\"'),\n",
       " (6,\n",
       "  '0.032*\"Ey\" + 0.029*\"Zahn\" + 0.026*\"Arsch\" + 0.022*\"Bock\" + 0.020*\"dreh\" + 0.013*\"pack\" + 0.012*\"essen\" + 0.011*\"Wohnung\" + 0.011*\"stepp\" + 0.009*\"Mercedes\"'),\n",
       " (7,\n",
       "  '0.035*\"lieb\" + 0.029*\"pushen\" + 0.021*\"Geruch\" + 0.021*\"ha\" + 0.019*\"Konzept\" + 0.016*\"Digga\" + 0.015*\"Frisch\" + 0.014*\"Geschichte\" + 0.013*\"Rucksack\" + 0.012*\"guck_mal\"'),\n",
       " (8,\n",
       "  '0.048*\"unterm\" + 0.035*\"Sampler\" + 0.021*\"genau\" + 0.019*\"Konzert\" + 0.015*\"Nummer_Eins\" + 0.014*\"bekommen\" + 0.014*\"Dogg\" + 0.013*\"kriminell\" + 0.012*\"Westen\" + 0.011*\"Get\"'),\n",
       " (9,\n",
       "  '0.049*\"anscheinen\" + 0.038*\"Grinsen\" + 0.036*\"überleben\" + 0.034*\"abdrücken\" + 0.027*\"Lässt\" + 0.021*\"Bong\" + 0.018*\"Rappers\" + 0.018*\"Höre\" + 0.018*\"Kanacks\" + 0.018*\"gut_Freund\"'),\n",
       " (10,\n",
       "  '0.219*\"Auto\" + 0.097*\"zieh\" + 0.029*\"schwarze\" + 0.027*\"Niro\" + 0.024*\"klopfen\" + 0.023*\"pausenlos\" + 0.018*\"verfluchen\" + 0.018*\"anfühlen\" + 0.017*\"came\" + 0.017*\"herum\"'),\n",
       " (11,\n",
       "  '0.099*\"wofür\" + 0.092*\"Fühlst\" + 0.033*\"leckt\" + 0.032*\"Kiffen\" + 0.031*\"Still\" + 0.025*\"flüstern\" + 0.024*\"klären\" + 0.023*\"if\" + 0.021*\"Schmock\" + 0.020*\"Schatten\"'),\n",
       " (12,\n",
       "  '0.136*\"weiß\" + 0.032*\"Dinger\" + 0.030*\"ein\" + 0.024*\"alleine\" + 0.023*\"Brate\" + 0.020*\"fahr\" + 0.016*\"Wiese\" + 0.015*\"betrinken\" + 0.014*\"Tracks\" + 0.014*\"Roli\"'),\n",
       " (13,\n",
       "  '0.041*\"Beste\" + 0.020*\"Mum\" + 0.018*\"Para\" + 0.017*\"Nacht_wach\" + 0.014*\"lieb\" + 0.013*\"Ruf\" + 0.009*\"schlaf\" + 0.009*\"grün\" + 0.009*\"gelaunt\" + 0.009*\"Nummer_Eins\"'),\n",
       " (14,\n",
       "  '0.024*\"Komm\" + 0.018*\"Stadt\" + 0.013*\"rappe\" + 0.010*\"attraktiv\" + 0.009*\"Gedicht\" + 0.009*\"Rapper\" + 0.009*\"verlieben\" + 0.008*\"drehen\" + 0.008*\"Küche\" + 0.006*\"Kopf\"'),\n",
       " (15,\n",
       "  '0.076*\"Herr\" + 0.075*\"Freundin\" + 0.054*\"Unterschicht\" + 0.034*\"kochen\" + 0.029*\"Globus\" + 0.026*\"Cash\" + 0.023*\"Korn\" + 0.022*\"Garten_Eden\" + 0.018*\"Kerze\" + 0.017*\"verpennen\"'),\n",
       " (16,\n",
       "  '0.063*\"Gift\" + 0.026*\"Chick\" + 0.016*\"stoned\" + 0.015*\"Harte\" + 0.014*\"Verlust\" + 0.014*\"Präsident\" + 0.013*\"häng\" + 0.011*\"Blunt\" + 0.010*\"bleib\" + 0.010*\"Reise\"'),\n",
       " (17,\n",
       "  '0.048*\"klopfen\" + 0.039*\"Hm\" + 0.034*\"Mille\" + 0.034*\"egal_passieren\" + 0.034*\"kreischen\" + 0.020*\"trauen\" + 0.017*\"RAF\" + 0.017*\"Elefant\" + 0.016*\"Frau\" + 0.014*\"Nacht\"'),\n",
       " (18,\n",
       "  '0.084*\"Handys\" + 0.037*\"erleben\" + 0.033*\"Juice\" + 0.025*\"Brust\" + 0.021*\"Eyo\" + 0.020*\"reichen\" + 0.017*\"pausenlos\" + 0.015*\"Romantik\" + 0.011*\"Steh\" + 0.010*\"Dachte\"'),\n",
       " (19,\n",
       "  '0.028*\"Herz\" + 0.023*\"Paper\" + 0.018*\"ma\" + 0.014*\"lieb\" + 0.012*\"klopfen\" + 0.010*\"bringen\" + 0.010*\"schmeißen\" + 0.010*\"Diggi\" + 0.010*\"Blättchen\" + 0.009*\"nachts\"')]"
      ]
     },
     "execution_count": 175,
     "metadata": {},
     "output_type": "execute_result"
    }
   ],
   "source": [
    "plot_passes(filename, passes)\n",
    "print(f'{num_topics} Topics:')\n",
    "lda_model.print_topics()"
   ]
  },
  {
   "cell_type": "code",
   "execution_count": 187,
   "metadata": {},
   "outputs": [],
   "source": [
    "# Previous observation: Many meaningless topics -> fewer topics\n",
    "# 20 passes seem optimal\n",
    "filename = 'gensim_5.log'\n",
    "create_logfile(filename)\n",
    "\n",
    "num_topics = 7\n",
    "chunksize = 1000\n",
    "passes = 20\n",
    "iterations = 10000\n",
    "\n",
    "\n",
    "lda_model = LdaModel(\n",
    "         corpus=corpus,\n",
    "         id2word=id2word,\n",
    "         num_topics=num_topics,\n",
    "         passes=passes,\n",
    "         iterations=iterations,\n",
    "         chunksize=chunksize,\n",
    "         alpha='auto',\n",
    "         eta='auto'\n",
    ")"
   ]
  },
  {
   "cell_type": "code",
   "execution_count": 213,
   "metadata": {
    "scrolled": true
   },
   "outputs": [
    {
     "data": {
      "image/png": "[encoded data removed]",
      "text/plain": [
       "<Figure size 432x288 with 1 Axes>"
      ]
     },
     "metadata": {
      "needs_background": "light"
     },
     "output_type": "display_data"
    },
    {
     "name": "stdout",
     "output_type": "stream",
     "text": [
      "7 Topics:\n"
     ]
    },
    {
     "data": {
      "text/plain": [
       "[(0,\n",
       "  '0.018*\"Straße\" + 0.011*\"Block\" + 0.011*\"Junge\" + 0.010*\"fick\" + 0.010*\"Mutter\" + 0.009*\"Jungs\" + 0.009*\"Bruder\" + 0.009*\"Fick\" + 0.009*\"Gangster\" + 0.008*\"Bulle\"'),\n",
       " (1,\n",
       "  '0.047*\"Baby\" + 0.014*\"lass\" + 0.014*\"komm\" + 0.013*\"weiß\" + 0.011*\"Lass\" + 0.011*\"Nacht\" + 0.010*\"mach\" + 0.010*\"Komm\" + 0.009*\"zieh\" + 0.008*\"high\"'),\n",
       " (2,\n",
       "  '0.016*\"Leben\" + 0.011*\"Welt\" + 0.009*\"lieben\" + 0.009*\"sehen\" + 0.008*\"bleiben\" + 0.008*\"Weg\" + 0.007*\"weiß\" + 0.007*\"Gott\" + 0.006*\"Auge\" + 0.006*\"Herz\"'),\n",
       " (3,\n",
       "  '0.014*\"Rapper\" + 0.014*\"yeah\" + 0.013*\"Bitch\" + 0.013*\"Rap\" + 0.013*\"Yeah\" + 0.009*\"mein\" + 0.006*\"Album\" + 0.006*\"Beat\" + 0.006*\"King\" + 0.005*\"Fan\"'),\n",
       " (4,\n",
       "  '0.025*\"Dicka\" + 0.020*\"Geld\" + 0.018*\"Money\" + 0.016*\"Bitch\" + 0.014*\"Bitches\" + 0.009*\"Cash\" + 0.009*\"Gang\" + 0.008*\"Bruder\" + 0.008*\"Para\" + 0.008*\"High\"'),\n",
       " (5,\n",
       "  '0.020*\"mal\" + 0.009*\"Mann\" + 0.009*\"eine\" + 0.009*\"mach\" + 0.008*\"sag\" + 0.008*\"Frau\" + 0.007*\"sagen\" + 0.007*\"komm\" + 0.007*\"wissen\" + 0.006*\"Geld\"'),\n",
       " (6,\n",
       "  '0.097*\"the\" + 0.053*\"you\" + 0.036*\"and\" + 0.019*\"your\" + 0.018*\"that\" + 0.016*\"like\" + 0.016*\"for\" + 0.015*\"got\" + 0.014*\"down\" + 0.014*\"bla\"')]"
      ]
     },
     "execution_count": 213,
     "metadata": {},
     "output_type": "execute_result"
    }
   ],
   "source": [
    "plot_passes(filename, passes)\n",
    "print(f'{num_topics} Topics:')\n",
    "lda_model.print_topics()\n",
    "\n",
    "# Very nice results. Topics:\n",
    "# 0:Gangsterrap, 1: Frauen, 2: Liebe, Leben, 3: Hip-Hop, 4: Geld, Status, 5:?, 6: Englisch\n",
    "# Filter english songs. Songs that contain the most common words from the english topic:\n",
    "# \"the\", \"you\" und \"and\" will be removed"
   ]
  }
 ],
 "metadata": {
  "kernelspec": {
   "display_name": "Python 3",
   "language": "python",
   "name": "python3"
  },
  "language_info": {
   "codemirror_mode": {
    "name": "ipython",
    "version": 3
   },
   "file_extension": ".py",
   "mimetype": "text/x-python",
   "name": "python",
   "nbconvert_exporter": "python",
   "pygments_lexer": "ipython3",
   "version": "3.7.0"
  }
 },
 "nbformat": 4,
 "nbformat_minor": 2
}
