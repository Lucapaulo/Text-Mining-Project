{
 "cells": [
  {
   "cell_type": "code",
   "execution_count": 74,
   "metadata": {},
   "outputs": [],
   "source": [
    "## Text Mining Project\n",
    "# imports\n",
    "import pandas as pd\n",
    "import matplotlib.pyplot as plt\n",
    "import numpy as np\n",
    "import json\n",
    "import re\n",
    "import lyricsgenius\n",
    "import time\n",
    "import spacy\n",
    "from gensim.corpora import Dictionary\n",
    "from gensim.models import Phrases\n",
    "from gensim.models import LdaModel\n",
    "import logging\n",
    "from gensim.models import CoherenceModel\n",
    "from operator import itemgetter"
   ]
  },
  {
   "cell_type": "code",
   "execution_count": 58,
   "metadata": {},
   "outputs": [],
   "source": [
    "all_artists = ['187 Strassenbande', 'AK Ausserkontrolle', 'Alligatoah', 'Apache 207', 'Azad', 'Azet', 'badmómzjay', 'Bausa', 'Beginner', 'Bonez MC', 'Bushido', 'Capital Bra', 'Casper', 'Celo & Abdi', 'Chakuza', 'Cro', 'Culcha Candela', 'CÉLINE', 'Dardan', 'Deichkind', 'Die Atzen', 'Die Fantastischen Vier', 'Eko Fresh', 'Eno', 'Farid Bang', 'Fero47', 'Fettes Brot', 'Fler', 'Freundeskreis', 'Genetikk', 'Gzuz', 'Haftbefehl', 'Jamule', 'Jan Delay', 'Joker Bra', 'Juju', 'K.I.Z', 'KC Rebell', 'Kay One', 'Kollegah', 'Kontra K', 'Kool Savas', 'Kraftklub', 'Loredana', 'Luciano', 'MERO', 'Marteria', 'Max Herre', 'MoTrip', 'Money Boy', 'Moses Pelham', 'Nimo', 'Olexesh', 'Peter Fox', 'Prinz Pi', 'RAF Camora', 'RIN', 'Rödelheim Hartreim Projekt', 'SSIO', 'SXTN', 'Sabrina Setlur', 'Samra', 'Samy Deluxe', 'Seeed', 'Shindy', 'Sido', 'Silla', 'Summer Cem', 'Tic Tac Toe', 'Trailerpark', 'Trettmann', 'Ufo361', 'Veysel', 'XATAR', 'Xavas', 'Yung Hurn', 'Zuna']"
   ]
  },
  {
   "cell_type": "code",
   "execution_count": null,
   "metadata": {},
   "outputs": [],
   "source": [
    "# Genius token - https://genius.com/api-clients\n",
    "# Library - https://github.com/johnwmillr/LyricsGenius\n",
    "token = \"KbIhkIUKtt6IqQnUWh7KwZXWU8d-FduTSQfCnJWHQh97BVs07PisfSWIYs0uAwX6\"\n",
    "genius = lyricsgenius.Genius(token)"
   ]
  },
  {
   "cell_type": "code",
   "execution_count": 3,
   "metadata": {
    "scrolled": true
   },
   "outputs": [],
   "source": [
    "# Download the lyrics\n",
    "for artist_name in all_artists:\n",
    "    try:\n",
    "        artist = genius.search_artist(artist_name, sort=\"title\")\n",
    "        artist.save_lyrics()\n",
    "    except:\n",
    "        time.sleep(300)\n",
    "        artist = genius.search_artist(artist_name, sort=\"title\")\n",
    "        artist.save_lyrics()"
   ]
  },
  {
   "cell_type": "code",
   "execution_count": 59,
   "metadata": {
    "scrolled": true
   },
   "outputs": [
    {
     "name": "stdout",
     "output_type": "stream",
     "text": [
      "187 Strassenbande\n",
      "AK Ausserkontrolle\n",
      "Alligatoah\n",
      "Apache 207\n",
      "Azad\n",
      "Azet\n",
      "badmómzjay\n",
      "Bausa\n",
      "Beginner\n",
      "Bonez MC\n",
      "Bushido\n",
      "Capital Bra\n",
      "Casper\n",
      "Celo & Abdi\n",
      "Chakuza\n",
      "Cro\n",
      "Culcha Candela\n",
      "CÉLINE\n",
      "Dardan\n",
      "Deichkind\n",
      "Die Atzen\n",
      "Die Fantastischen Vier\n",
      "Eko Fresh\n",
      "Eno\n",
      "Farid Bang\n",
      "Fero47\n",
      "Fettes Brot\n",
      "Fler\n",
      "Freundeskreis\n",
      "Genetikk\n",
      "Gzuz\n",
      "Haftbefehl\n",
      "Jamule\n",
      "Jan Delay\n",
      "Joker Bra\n",
      "Juju\n",
      "K.I.Z\n",
      "KC Rebell\n",
      "Kay One\n",
      "Kollegah\n",
      "Kontra K\n",
      "Kool Savas\n",
      "Kraftklub\n",
      "Loredana\n",
      "Luciano\n",
      "MERO\n",
      "Marteria\n",
      "Max Herre\n",
      "MoTrip\n",
      "Money Boy\n",
      "Moses Pelham\n",
      "Nimo\n",
      "Olexesh\n",
      "Peter Fox\n",
      "Prinz Pi\n",
      "RAF Camora\n",
      "RIN\n",
      "Rödelheim Hartreim Projekt\n",
      "SSIO\n",
      "SXTN\n",
      "Sabrina Setlur\n",
      "Samra\n",
      "Samy Deluxe\n",
      "Seeed\n",
      "Shindy\n",
      "Sido\n",
      "Silla\n",
      "Summer Cem\n",
      "Tic Tac Toe\n",
      "Trailerpark\n",
      "Trettmann\n",
      "Ufo361\n",
      "Veysel\n",
      "XATAR\n",
      "Xavas\n",
      "Yung Hurn\n",
      "Zuna\n"
     ]
    }
   ],
   "source": [
    "# Store lyrics and relevant metadata in dataframe\n",
    "all_songs = pd.DataFrame(columns = ['Title', 'Artist', 'Release', 'Lyrics'])\n",
    "\n",
    "for artist_name in all_artists:\n",
    "    print(artist_name)\n",
    "    # Extract data from the json files\n",
    "    with open(f'Lyrics_{artist_name.replace(\" \", \"\").replace(\"&\", \"\")}.json') as json_file:\n",
    "        data = json.load(json_file)\n",
    "        for song in data['songs']:\n",
    "            title = song['title']\n",
    "            release = song['release_date']\n",
    "            lyrics_raw_raw = song['lyrics']\n",
    "            # Exclude songs without lyrics or release date, songs that contain brackets () and commentaries\n",
    "            if lyrics_raw_raw != None and release != None and not re.search(' \\(.*?\\)', title) and 'Commentary' not in title:\n",
    "                # Remove line breaks from lyrics\n",
    "                lyrics_raw = lyrics_raw_raw.replace('\\n', ' ')\n",
    "                # Remove brackets from the lyrics, as they only contain meta info and calls e.g. [Hook], (yeah!)                \n",
    "                lyrics = re.sub(\"[\\[].*?[\\]]|[\\(].*?[\\)]\", \"\", lyrics_raw)\n",
    "                # Filter lyrics with english parts by best effort\n",
    "                if not re.search('(?=.* the )(?=.* you )(?=.* and )', lyrics):\n",
    "                    new_song = {'Title': title, 'Artist': artist_name, 'Release': release, 'Lyrics': lyrics}\n",
    "                    all_songs = all_songs.append(new_song, ignore_index=True)"
   ]
  },
  {
   "cell_type": "code",
   "execution_count": 34,
   "metadata": {
    "scrolled": true
   },
   "outputs": [],
   "source": [
    "#print(test_frame[test_frame['Release'].isnull()])\n",
    "#print(all_songs[all_songs['Title'].str.contains(' \\(.*?\\)')])\n",
    "#print(all_songs[all_songs['Artist']=='Bushido'])\n",
    "#print(all_songs.iloc[8]['Lyrics'])\n",
    "#print(all_songs.head())"
   ]
  },
  {
   "cell_type": "code",
   "execution_count": 5,
   "metadata": {},
   "outputs": [],
   "source": [
    "nlp = spacy.load('de_core_news_lg')\n",
    "nlp_en = spacy.load('en')"
   ]
  },
  {
   "cell_type": "code",
   "execution_count": 6,
   "metadata": {},
   "outputs": [
    {
     "name": "stdout",
     "output_type": "stream",
     "text": [
      "Tokenization\n",
      "Adding bigrams\n",
      "Filtering extremes\n",
      "Compute BoW representation\n",
      "Number of unique tokens: 6408\n",
      "Number of documents: 7490\n"
     ]
    }
   ],
   "source": [
    "# Preprocessing\n",
    "docs = []\n",
    "\n",
    "print('Tokenization')\n",
    "# Tokenization and Lemmatization (remove stop words, numbers and one/two character words)\n",
    "for index, song in all_songs.iterrows():\n",
    "    doc = nlp(song['Lyrics'])\n",
    "    lemmatized_doc = [token.lemma_ for token in doc if not token.is_stop and token.lemma_.isalpha() and len(token)>2]\n",
    "    docs.append(lemmatized_doc)\n",
    "\n",
    "# Remove english stop words\n",
    "en_stop_words = nlp_en.Defaults.stop_words\n",
    "docs = [[word for word in doc if not word.lower() in en_stop_words] for doc in docs]\n",
    "\n",
    "print('Adding bigrams')\n",
    "# Add bigrams that appear 20 times or more\n",
    "bigram = Phrases(docs, min_count=20)\n",
    "for idx in range(len(docs)):\n",
    "    for token in bigram[docs[idx]]:\n",
    "        if '_' in token:\n",
    "            # Token is a bigram, add to document\n",
    "            docs[idx].append(token)\n",
    "            \n",
    "print('Filtering extremes')\n",
    "# Filter extremes, these values seem to work the best\n",
    "dictionary = Dictionary(docs)\n",
    "dictionary.filter_extremes(no_below=20, no_above=0.5)\n",
    "\n",
    "print('Compute BoW representation')\n",
    "# Bag-of-words representation of the documents\n",
    "corpus = [dictionary.doc2bow(doc) for doc in docs]\n",
    "\n",
    "temp = dictionary[0]\n",
    "id2word = dictionary.id2token\n",
    "\n",
    "print('Number of unique tokens: %d' % len(dictionary))\n",
    "print('Number of documents: %d' % len(corpus))"
   ]
  },
  {
   "cell_type": "code",
   "execution_count": 7,
   "metadata": {},
   "outputs": [],
   "source": [
    "def plot_passes(filename, passes):\n",
    "    matcher = re.compile('(-*\\d+\\.\\d+) per-word .* (\\d+\\.\\d+) perplexity')\n",
    "    likelihoods = []\n",
    "    with open(filename) as source:\n",
    "        for line in source:\n",
    "            match = matcher.search(line)\n",
    "            if match:\n",
    "                likelihoods.append(float(match.group(1)))\n",
    "    plt.plot(np.arange(0,passes,1), likelihoods, c=\"black\")\n",
    "    plt.ylabel(\"log liklihood\")\n",
    "    plt.xlabel(\"pass\")\n",
    "    plt.title(\"Topic Model Convergence\")\n",
    "    plt.grid()\n",
    "    plt.show()"
   ]
  },
  {
   "cell_type": "code",
   "execution_count": 8,
   "metadata": {},
   "outputs": [],
   "source": [
    "def create_logfile(filename):\n",
    "    for handler in logging.root.handlers[:]:\n",
    "        logging.root.removeHandler(handler)\n",
    "    logging.basicConfig(filename=filename,\n",
    "                        format=\"%(asctime)s:%(levelname)s:%(message)s\",\n",
    "                        level=logging.INFO)"
   ]
  },
  {
   "cell_type": "code",
   "execution_count": 174,
   "metadata": {},
   "outputs": [],
   "source": [
    "# Previous Observations: Words with two letters usually dont contribute -> tweak tokenization\n",
    "filename = 'gensim_3.log'\n",
    "create_logfile(filename)\n",
    "\n",
    "num_topics = 20\n",
    "chunksize = 1000\n",
    "passes = 50\n",
    "iterations = 1000\n",
    "\n",
    "\n",
    "lda_model = LdaModel(\n",
    "         corpus=corpus,\n",
    "         id2word=id2word,\n",
    "         num_topics=num_topics,\n",
    "         passes=passes,\n",
    "         iterations=iterations,\n",
    "         chunksize=chunksize,\n",
    "         alpha='auto',\n",
    "         eta='auto'\n",
    ")"
   ]
  },
  {
   "cell_type": "code",
   "execution_count": 175,
   "metadata": {
    "scrolled": true
   },
   "outputs": [
    {
     "data": {
      "image/png": "[encoded data removed]",
      "text/plain": [
       "<Figure size 432x288 with 1 Axes>"
      ]
     },
     "metadata": {
      "needs_background": "light"
     },
     "output_type": "display_data"
    },
    {
     "name": "stdout",
     "output_type": "stream",
     "text": [
      "20 Topics:\n"
     ]
    },
    {
     "data": {
      "text/plain": [
       "[(0,\n",
       "  '0.034*\"Straße\" + 0.022*\"heben\" + 0.019*\"Junge\" + 0.017*\"Kopf\" + 0.015*\"Jungs\" + 0.014*\"Knast\" + 0.014*\"this\" + 0.014*\"fett\" + 0.013*\"Freundin\" + 0.013*\"Dinger\"'),\n",
       " (1,\n",
       "  '0.109*\"ficke\" + 0.096*\"bitte\" + 0.076*\"Geben\" + 0.065*\"Auge_rot\" + 0.041*\"Ausweg\" + 0.027*\"Super\" + 0.023*\"Techno\" + 0.021*\"gekackt\" + 0.017*\"schmecken\" + 0.016*\"Wäsche\"'),\n",
       " (2,\n",
       "  '0.088*\"nehm\" + 0.045*\"Scheisse\" + 0.030*\"Teil\" + 0.016*\"bitter\" + 0.016*\"name\" + 0.015*\"Yes\" + 0.015*\"eigentlich\" + 0.013*\"around\" + 0.012*\"Bitte_bitte\" + 0.012*\"Siedlung\"'),\n",
       " (3,\n",
       "  '0.028*\"live\" + 0.012*\"Mann\" + 0.012*\"ein\" + 0.009*\"System\" + 0.007*\"draußen\" + 0.007*\"Leute\" + 0.007*\"Zahn\" + 0.006*\"hohl\" + 0.006*\"ficken\" + 0.006*\"lieb\"'),\n",
       " (4,\n",
       "  '0.068*\"Nacht\" + 0.054*\"Schnapp\" + 0.037*\"Streets\" + 0.030*\"Geld\" + 0.028*\"tanz\" + 0.023*\"jed_Kind\" + 0.017*\"sehn\" + 0.016*\"Competition\" + 0.016*\"Audemars_Piguet\" + 0.016*\"beweisen\"'),\n",
       " (5,\n",
       "  '0.195*\"siebzehn\" + 0.101*\"Rock\" + 0.043*\"geben\" + 0.042*\"lässt\" + 0.040*\"Hab\" + 0.026*\"DJ\" + 0.024*\"gedenken\" + 0.023*\"schaffen\" + 0.019*\"Draußen\" + 0.018*\"sing\"'),\n",
       " (6,\n",
       "  '0.032*\"Ey\" + 0.029*\"Zahn\" + 0.026*\"Arsch\" + 0.022*\"Bock\" + 0.020*\"dreh\" + 0.013*\"pack\" + 0.012*\"essen\" + 0.011*\"Wohnung\" + 0.011*\"stepp\" + 0.009*\"Mercedes\"'),\n",
       " (7,\n",
       "  '0.035*\"lieb\" + 0.029*\"pushen\" + 0.021*\"Geruch\" + 0.021*\"ha\" + 0.019*\"Konzept\" + 0.016*\"Digga\" + 0.015*\"Frisch\" + 0.014*\"Geschichte\" + 0.013*\"Rucksack\" + 0.012*\"guck_mal\"'),\n",
       " (8,\n",
       "  '0.048*\"unterm\" + 0.035*\"Sampler\" + 0.021*\"genau\" + 0.019*\"Konzert\" + 0.015*\"Nummer_Eins\" + 0.014*\"bekommen\" + 0.014*\"Dogg\" + 0.013*\"kriminell\" + 0.012*\"Westen\" + 0.011*\"Get\"'),\n",
       " (9,\n",
       "  '0.049*\"anscheinen\" + 0.038*\"Grinsen\" + 0.036*\"überleben\" + 0.034*\"abdrücken\" + 0.027*\"Lässt\" + 0.021*\"Bong\" + 0.018*\"Rappers\" + 0.018*\"Höre\" + 0.018*\"Kanacks\" + 0.018*\"gut_Freund\"'),\n",
       " (10,\n",
       "  '0.219*\"Auto\" + 0.097*\"zieh\" + 0.029*\"schwarze\" + 0.027*\"Niro\" + 0.024*\"klopfen\" + 0.023*\"pausenlos\" + 0.018*\"verfluchen\" + 0.018*\"anfühlen\" + 0.017*\"came\" + 0.017*\"herum\"'),\n",
       " (11,\n",
       "  '0.099*\"wofür\" + 0.092*\"Fühlst\" + 0.033*\"leckt\" + 0.032*\"Kiffen\" + 0.031*\"Still\" + 0.025*\"flüstern\" + 0.024*\"klären\" + 0.023*\"if\" + 0.021*\"Schmock\" + 0.020*\"Schatten\"'),\n",
       " (12,\n",
       "  '0.136*\"weiß\" + 0.032*\"Dinger\" + 0.030*\"ein\" + 0.024*\"alleine\" + 0.023*\"Brate\" + 0.020*\"fahr\" + 0.016*\"Wiese\" + 0.015*\"betrinken\" + 0.014*\"Tracks\" + 0.014*\"Roli\"'),\n",
       " (13,\n",
       "  '0.041*\"Beste\" + 0.020*\"Mum\" + 0.018*\"Para\" + 0.017*\"Nacht_wach\" + 0.014*\"lieb\" + 0.013*\"Ruf\" + 0.009*\"schlaf\" + 0.009*\"grün\" + 0.009*\"gelaunt\" + 0.009*\"Nummer_Eins\"'),\n",
       " (14,\n",
       "  '0.024*\"Komm\" + 0.018*\"Stadt\" + 0.013*\"rappe\" + 0.010*\"attraktiv\" + 0.009*\"Gedicht\" + 0.009*\"Rapper\" + 0.009*\"verlieben\" + 0.008*\"drehen\" + 0.008*\"Küche\" + 0.006*\"Kopf\"'),\n",
       " (15,\n",
       "  '0.076*\"Herr\" + 0.075*\"Freundin\" + 0.054*\"Unterschicht\" + 0.034*\"kochen\" + 0.029*\"Globus\" + 0.026*\"Cash\" + 0.023*\"Korn\" + 0.022*\"Garten_Eden\" + 0.018*\"Kerze\" + 0.017*\"verpennen\"'),\n",
       " (16,\n",
       "  '0.063*\"Gift\" + 0.026*\"Chick\" + 0.016*\"stoned\" + 0.015*\"Harte\" + 0.014*\"Verlust\" + 0.014*\"Präsident\" + 0.013*\"häng\" + 0.011*\"Blunt\" + 0.010*\"bleib\" + 0.010*\"Reise\"'),\n",
       " (17,\n",
       "  '0.048*\"klopfen\" + 0.039*\"Hm\" + 0.034*\"Mille\" + 0.034*\"egal_passieren\" + 0.034*\"kreischen\" + 0.020*\"trauen\" + 0.017*\"RAF\" + 0.017*\"Elefant\" + 0.016*\"Frau\" + 0.014*\"Nacht\"'),\n",
       " (18,\n",
       "  '0.084*\"Handys\" + 0.037*\"erleben\" + 0.033*\"Juice\" + 0.025*\"Brust\" + 0.021*\"Eyo\" + 0.020*\"reichen\" + 0.017*\"pausenlos\" + 0.015*\"Romantik\" + 0.011*\"Steh\" + 0.010*\"Dachte\"'),\n",
       " (19,\n",
       "  '0.028*\"Herz\" + 0.023*\"Paper\" + 0.018*\"ma\" + 0.014*\"lieb\" + 0.012*\"klopfen\" + 0.010*\"bringen\" + 0.010*\"schmeißen\" + 0.010*\"Diggi\" + 0.010*\"Blättchen\" + 0.009*\"nachts\"')]"
      ]
     },
     "execution_count": 175,
     "metadata": {},
     "output_type": "execute_result"
    }
   ],
   "source": [
    "plot_passes(filename, passes)\n",
    "print(f'{num_topics} Topics:')\n",
    "lda_model.print_topics()"
   ]
  },
  {
   "cell_type": "code",
   "execution_count": 187,
   "metadata": {},
   "outputs": [],
   "source": [
    "# Previous observation: Many meaningless topics -> fewer topics\n",
    "filename = 'gensim_5.log'\n",
    "create_logfile(filename)\n",
    "\n",
    "num_topics = 7\n",
    "chunksize = 1000\n",
    "passes = 20\n",
    "iterations = 10000\n",
    "\n",
    "\n",
    "lda_model = LdaModel(\n",
    "         corpus=corpus,\n",
    "         id2word=id2word,\n",
    "         num_topics=num_topics,\n",
    "         passes=passes,\n",
    "         iterations=iterations,\n",
    "         chunksize=chunksize,\n",
    "         alpha='auto',\n",
    "         eta='auto'\n",
    ")"
   ]
  },
  {
   "cell_type": "code",
   "execution_count": 213,
   "metadata": {
    "scrolled": true
   },
   "outputs": [
    {
     "data": {
      "image/png": "[encoded data removed]",
      "text/plain": [
       "<Figure size 432x288 with 1 Axes>"
      ]
     },
     "metadata": {
      "needs_background": "light"
     },
     "output_type": "display_data"
    },
    {
     "name": "stdout",
     "output_type": "stream",
     "text": [
      "7 Topics:\n"
     ]
    },
    {
     "data": {
      "text/plain": [
       "[(0,\n",
       "  '0.018*\"Straße\" + 0.011*\"Block\" + 0.011*\"Junge\" + 0.010*\"fick\" + 0.010*\"Mutter\" + 0.009*\"Jungs\" + 0.009*\"Bruder\" + 0.009*\"Fick\" + 0.009*\"Gangster\" + 0.008*\"Bulle\"'),\n",
       " (1,\n",
       "  '0.047*\"Baby\" + 0.014*\"lass\" + 0.014*\"komm\" + 0.013*\"weiß\" + 0.011*\"Lass\" + 0.011*\"Nacht\" + 0.010*\"mach\" + 0.010*\"Komm\" + 0.009*\"zieh\" + 0.008*\"high\"'),\n",
       " (2,\n",
       "  '0.016*\"Leben\" + 0.011*\"Welt\" + 0.009*\"lieben\" + 0.009*\"sehen\" + 0.008*\"bleiben\" + 0.008*\"Weg\" + 0.007*\"weiß\" + 0.007*\"Gott\" + 0.006*\"Auge\" + 0.006*\"Herz\"'),\n",
       " (3,\n",
       "  '0.014*\"Rapper\" + 0.014*\"yeah\" + 0.013*\"Bitch\" + 0.013*\"Rap\" + 0.013*\"Yeah\" + 0.009*\"mein\" + 0.006*\"Album\" + 0.006*\"Beat\" + 0.006*\"King\" + 0.005*\"Fan\"'),\n",
       " (4,\n",
       "  '0.025*\"Dicka\" + 0.020*\"Geld\" + 0.018*\"Money\" + 0.016*\"Bitch\" + 0.014*\"Bitches\" + 0.009*\"Cash\" + 0.009*\"Gang\" + 0.008*\"Bruder\" + 0.008*\"Para\" + 0.008*\"High\"'),\n",
       " (5,\n",
       "  '0.020*\"mal\" + 0.009*\"Mann\" + 0.009*\"eine\" + 0.009*\"mach\" + 0.008*\"sag\" + 0.008*\"Frau\" + 0.007*\"sagen\" + 0.007*\"komm\" + 0.007*\"wissen\" + 0.006*\"Geld\"'),\n",
       " (6,\n",
       "  '0.097*\"the\" + 0.053*\"you\" + 0.036*\"and\" + 0.019*\"your\" + 0.018*\"that\" + 0.016*\"like\" + 0.016*\"for\" + 0.015*\"got\" + 0.014*\"down\" + 0.014*\"bla\"')]"
      ]
     },
     "execution_count": 213,
     "metadata": {},
     "output_type": "execute_result"
    }
   ],
   "source": [
    "plot_passes(filename, passes)\n",
    "print(f'{num_topics} Topics:')\n",
    "lda_model.print_topics()\n",
    "\n",
    "# Very nice results. Topics:\n",
    "# 0:Gangsterrap, 1: Frauen, 2: Liebe, Leben, 3: Hip-Hop, 4: Geld, Status, 5:?, 6: Englisch\n",
    "# Filter english songs. Songs that contain the most common words from the english topic:\n",
    "# \"the\", \"you\" und \"and\" will be removed"
   ]
  },
  {
   "cell_type": "code",
   "execution_count": 14,
   "metadata": {},
   "outputs": [],
   "source": [
    "filename = 'gensim_6.log'\n",
    "create_logfile(filename)\n",
    "\n",
    "num_topics = 6\n",
    "chunksize = 1000\n",
    "passes = 30\n",
    "iterations = 10000\n",
    "\n",
    "\n",
    "lda_model = LdaModel(\n",
    "         corpus=corpus,\n",
    "         id2word=id2word,\n",
    "         num_topics=num_topics,\n",
    "         passes=passes,\n",
    "         iterations=iterations,\n",
    "         chunksize=chunksize,\n",
    "         alpha='auto',\n",
    "         eta='auto'\n",
    ")"
   ]
  },
  {
   "cell_type": "code",
   "execution_count": 15,
   "metadata": {
    "scrolled": true
   },
   "outputs": [
    {
     "data": {
      "image/png": "[encoded data removed]",
      "text/plain": [
       "<Figure size 432x288 with 1 Axes>"
      ]
     },
     "metadata": {
      "needs_background": "light"
     },
     "output_type": "display_data"
    },
    {
     "name": "stdout",
     "output_type": "stream",
     "text": [
      "6 Topics:\n"
     ]
    },
    {
     "data": {
      "text/plain": [
       "[(0,\n",
       "  '0.043*\"the\" + 0.014*\"you\" + 0.011*\"down\" + 0.010*\"and\" + 0.010*\"Summer\" + 0.009*\"Eko\" + 0.009*\"for\" + 0.008*\"Shit\" + 0.008*\"fuck\" + 0.007*\"your\" + 0.007*\"Drip\" + 0.006*\"back\" + 0.006*\"like\" + 0.006*\"that\" + 0.006*\"Cem\" + 0.006*\"ready\" + 0.006*\"all\" + 0.005*\"hart\" + 0.005*\"love\" + 0.005*\"City\"'),\n",
       " (1,\n",
       "  '0.020*\"Leben\" + 0.014*\"Welt\" + 0.010*\"sehen\" + 0.010*\"bleiben\" + 0.009*\"Weg\" + 0.008*\"Gott\" + 0.008*\"Herz\" + 0.008*\"Auge\" + 0.007*\"Kopf\" + 0.007*\"Hand\" + 0.006*\"leben\" + 0.006*\"Nacht\" + 0.006*\"stehen\" + 0.006*\"Traum\" + 0.006*\"Mensch\" + 0.004*\"Bruder\" + 0.004*\"sterben\" + 0.004*\"Licht\" + 0.004*\"liegen\" + 0.004*\"seh\"'),\n",
       " (2,\n",
       "  '0.012*\"Rapper\" + 0.010*\"Rap\" + 0.009*\"mein\" + 0.007*\"komm\" + 0.007*\"mach\" + 0.007*\"Bitch\" + 0.006*\"sehen\" + 0.006*\"Junge\" + 0.006*\"Yeah\" + 0.006*\"fick\" + 0.005*\"Fick\" + 0.005*\"ein\" + 0.005*\"Arsch\" + 0.004*\"Nutte\" + 0.004*\"eine\" + 0.004*\"King\" + 0.004*\"kriegen\" + 0.004*\"mal\" + 0.004*\"Schwanz\" + 0.004*\"Guck\"'),\n",
       " (3,\n",
       "  '0.013*\"Bruder\" + 0.013*\"Geld\" + 0.009*\"mach\" + 0.007*\"Straße\" + 0.007*\"Benz\" + 0.006*\"eine\" + 0.006*\"Gang\" + 0.006*\"Scheine\" + 0.005*\"Jungs\" + 0.005*\"geben\" + 0.005*\"hol\" + 0.005*\"voll\" + 0.005*\"Bra\" + 0.005*\"Para\" + 0.005*\"Mach\" + 0.004*\"Block\" + 0.004*\"Kopf\" + 0.004*\"weg\" + 0.004*\"Gib\" + 0.004*\"Mama\"'),\n",
       " (4,\n",
       "  '0.022*\"mal\" + 0.014*\"weiß\" + 0.011*\"sagen\" + 0.009*\"Mann\" + 0.009*\"lieben\" + 0.009*\"sag\" + 0.008*\"wissen\" + 0.008*\"einfach\" + 0.007*\"denken\" + 0.007*\"eine\" + 0.006*\"fragen\" + 0.006*\"nix\" + 0.006*\"mach\" + 0.006*\"tun\" + 0.006*\"Frau\" + 0.006*\"bitte\" + 0.006*\"Sag\" + 0.005*\"wär\" + 0.005*\"Leute\" + 0.005*\"egal\"'),\n",
       " (5,\n",
       "  '0.058*\"Baby\" + 0.032*\"Dicka\" + 0.023*\"Bitch\" + 0.021*\"yeah\" + 0.018*\"Money\" + 0.014*\"Bitches\" + 0.012*\"komm\" + 0.009*\"Geld\" + 0.009*\"High\" + 0.009*\"Yeah\" + 0.009*\"jaja\" + 0.008*\"Komm\" + 0.008*\"weiß\" + 0.008*\"zieh\" + 0.008*\"Boy\" + 0.008*\"Babe\" + 0.008*\"Bratan\" + 0.007*\"Stay\" + 0.007*\"Stay_High\" + 0.007*\"Nacht\"')]"
      ]
     },
     "execution_count": 15,
     "metadata": {},
     "output_type": "execute_result"
    }
   ],
   "source": [
    "plot_passes(filename, passes)\n",
    "print(f'{num_topics} Topics:')\n",
    "lda_model.print_topics(num_words=20)\n",
    "\n",
    "# Still a lot of english; remove all english stop words"
   ]
  },
  {
   "cell_type": "code",
   "execution_count": 17,
   "metadata": {},
   "outputs": [
    {
     "data": {
      "image/png": "[encoded data removed]",
      "text/plain": [
       "<Figure size 432x288 with 1 Axes>"
      ]
     },
     "metadata": {
      "needs_background": "light"
     },
     "output_type": "display_data"
    },
    {
     "name": "stdout",
     "output_type": "stream",
     "text": [
      "5 Topics:\n"
     ]
    },
    {
     "data": {
      "text/plain": [
       "[(0,\n",
       "  '0.011*\"Leben\" + 0.009*\"mal\" + 0.008*\"Welt\" + 0.008*\"sehen\" + 0.008*\"weiß\" + 0.006*\"lieben\" + 0.006*\"bleiben\" + 0.005*\"stehen\" + 0.005*\"denken\" + 0.005*\"Mann\" + 0.005*\"Weg\" + 0.005*\"sagen\" + 0.005*\"einfach\" + 0.004*\"Gott\" + 0.004*\"Auge\" + 0.004*\"Herz\" + 0.004*\"Hand\" + 0.004*\"Nacht\" + 0.004*\"weg\" + 0.004*\"eine\"'),\n",
       " (1,\n",
       "  '0.036*\"Bitch\" + 0.029*\"yeah\" + 0.019*\"Money\" + 0.016*\"Bitches\" + 0.016*\"Yeah\" + 0.013*\"Geld\" + 0.011*\"ein\" + 0.010*\"Boy\" + 0.010*\"eine\" + 0.008*\"Boss\" + 0.007*\"Club\" + 0.006*\"Cash\" + 0.005*\"Farid\" + 0.005*\"Girl\" + 0.005*\"Bang\" + 0.005*\"Guck\" + 0.005*\"hol\" + 0.005*\"Gucci\" + 0.005*\"like\" + 0.005*\"Yeah_yeah\"'),\n",
       " (2,\n",
       "  '0.011*\"Rapper\" + 0.010*\"mal\" + 0.010*\"Rap\" + 0.009*\"mein\" + 0.009*\"mach\" + 0.009*\"komm\" + 0.007*\"Junge\" + 0.005*\"Mann\" + 0.005*\"sehen\" + 0.005*\"fick\" + 0.004*\"King\" + 0.004*\"Arsch\" + 0.004*\"Leute\" + 0.004*\"Yeah\" + 0.004*\"Scheiß\" + 0.004*\"Fan\" + 0.004*\"Album\" + 0.004*\"kriegen\" + 0.004*\"machen\" + 0.004*\"Guck\"'),\n",
       " (3,\n",
       "  '0.012*\"Bruder\" + 0.012*\"Geld\" + 0.008*\"Straße\" + 0.008*\"mach\" + 0.006*\"eine\" + 0.006*\"Benz\" + 0.006*\"Jungs\" + 0.006*\"Kopf\" + 0.005*\"Block\" + 0.005*\"Gang\" + 0.005*\"Scheine\" + 0.004*\"voll\" + 0.004*\"Mach\" + 0.004*\"paar\" + 0.004*\"Mama\" + 0.004*\"weg\" + 0.004*\"Para\" + 0.004*\"Fick\" + 0.004*\"laufen\" + 0.004*\"Knast\"'),\n",
       " (4,\n",
       "  '0.055*\"Baby\" + 0.026*\"Dicka\" + 0.018*\"komm\" + 0.015*\"weiß\" + 0.012*\"Bra\" + 0.010*\"lass\" + 0.010*\"Komm\" + 0.010*\"sag\" + 0.010*\"geben\" + 0.009*\"Bratan\" + 0.009*\"bitte\" + 0.009*\"mach\" + 0.009*\"zieh\" + 0.009*\"Nacht\" + 0.009*\"Gib\" + 0.009*\"high\" + 0.008*\"wissen\" + 0.008*\"High\" + 0.007*\"jaja\" + 0.007*\"Babe\"')]"
      ]
     },
     "execution_count": 17,
     "metadata": {},
     "output_type": "execute_result"
    }
   ],
   "source": [
    "filename = 'gensim_7.log'\n",
    "create_logfile(filename)\n",
    "\n",
    "num_topics = 5\n",
    "chunksize = 1000\n",
    "passes = 500\n",
    "iterations = 10000\n",
    "\n",
    "\n",
    "lda_model = LdaModel(\n",
    "         corpus=corpus,\n",
    "         id2word=id2word,\n",
    "         num_topics=num_topics,\n",
    "         passes=passes,\n",
    "         iterations=iterations,\n",
    "         chunksize=chunksize,\n",
    "         alpha='auto',\n",
    "         eta='auto'\n",
    ")\n",
    "\n",
    "plot_passes(filename, passes)\n",
    "print(f'{num_topics} Topics:')\n",
    "lda_model.print_topics(num_words=20)\n",
    "\n",
    "# Use 300 passes"
   ]
  },
  {
   "cell_type": "code",
   "execution_count": 55,
   "metadata": {
    "scrolled": true
   },
   "outputs": [
    {
     "data": {
      "image/png": "[encoded data removed]",
      "text/plain": [
       "<Figure size 432x288 with 1 Axes>"
      ]
     },
     "metadata": {
      "needs_background": "light"
     },
     "output_type": "display_data"
    },
    {
     "name": "stdout",
     "output_type": "stream",
     "text": [
      "5 Topics:\n"
     ]
    },
    {
     "data": {
      "text/plain": [
       "[(0,\n",
       "  '0.015*\"Leben\" + 0.010*\"Welt\" + 0.009*\"sehen\" + 0.008*\"bleiben\" + 0.007*\"lieben\" + 0.006*\"Weg\" + 0.006*\"Gott\" + 0.006*\"Herz\" + 0.005*\"stehen\" + 0.005*\"Auge\" + 0.005*\"weiß\" + 0.005*\"leben\" + 0.005*\"Kopf\" + 0.005*\"denken\" + 0.005*\"Mensch\" + 0.004*\"Traum\" + 0.004*\"mein\" + 0.004*\"Nacht\" + 0.004*\"Mann\" + 0.004*\"Kind\" + 0.004*\"Mama\" + 0.004*\"mal\" + 0.004*\"Freund\" + 0.004*\"Bruder\" + 0.004*\"hören\"'),\n",
       " (1,\n",
       "  '0.012*\"Bruder\" + 0.010*\"Geld\" + 0.007*\"Straße\" + 0.007*\"mach\" + 0.006*\"Benz\" + 0.006*\"Bra\" + 0.006*\"Jungs\" + 0.005*\"Block\" + 0.005*\"Scheine\" + 0.005*\"Kopf\" + 0.005*\"geben\" + 0.005*\"Para\" + 0.004*\"Bratan\" + 0.004*\"eine\" + 0.004*\"Digga\" + 0.004*\"Gang\" + 0.004*\"Fick\" + 0.004*\"fick\" + 0.004*\"weg\" + 0.004*\"Haze\" + 0.004*\"Bulle\" + 0.003*\"voll\" + 0.003*\"Knast\" + 0.003*\"zieh\" + 0.003*\"paar\"'),\n",
       " (2,\n",
       "  '0.019*\"mal\" + 0.017*\"Baby\" + 0.012*\"weiß\" + 0.011*\"komm\" + 0.011*\"mach\" + 0.010*\"sag\" + 0.008*\"lass\" + 0.007*\"eine\" + 0.007*\"wissen\" + 0.007*\"Komm\" + 0.007*\"sagen\" + 0.007*\"Frau\" + 0.006*\"bitte\" + 0.006*\"fragen\" + 0.005*\"Mann\" + 0.005*\"Hand\" + 0.005*\"voll\" + 0.005*\"einfach\" + 0.005*\"geben\" + 0.004*\"geh\" + 0.004*\"Sag\" + 0.004*\"brauchen\" + 0.004*\"weg\" + 0.004*\"raus\" + 0.004*\"Party\"'),\n",
       " (3,\n",
       "  '0.027*\"Bitch\" + 0.023*\"yeah\" + 0.023*\"Dicka\" + 0.018*\"Money\" + 0.015*\"Bitches\" + 0.012*\"Yeah\" + 0.011*\"Geld\" + 0.009*\"Boy\" + 0.007*\"Gucci\" + 0.007*\"ein\" + 0.006*\"High\" + 0.006*\"Ice\" + 0.006*\"Cash\" + 0.006*\"jaja\" + 0.006*\"eine\" + 0.006*\"Guck\" + 0.005*\"Stay\" + 0.005*\"Louis\" + 0.005*\"Stay_High\" + 0.005*\"high\" + 0.005*\"Gang\" + 0.004*\"Kette\" + 0.004*\"Ufo\" + 0.004*\"VVS\" + 0.004*\"Yeah_yeah\"'),\n",
       " (4,\n",
       "  '0.014*\"Rapper\" + 0.013*\"Rap\" + 0.010*\"mein\" + 0.008*\"Junge\" + 0.007*\"fick\" + 0.006*\"sehen\" + 0.006*\"mach\" + 0.006*\"King\" + 0.006*\"Yeah\" + 0.005*\"komm\" + 0.005*\"Fick\" + 0.005*\"Album\" + 0.005*\"Nutte\" + 0.005*\"Bitch\" + 0.005*\"Fan\" + 0.005*\"Schwanz\" + 0.005*\"mal\" + 0.005*\"Mann\" + 0.005*\"Guck\" + 0.004*\"Mutter\" + 0.004*\"kriegen\" + 0.004*\"Gangster\" + 0.004*\"Mic\" + 0.004*\"Leute\" + 0.004*\"hart\"')]"
      ]
     },
     "execution_count": 55,
     "metadata": {},
     "output_type": "execute_result"
    }
   ],
   "source": [
    "filename = 'gensim_8.log'\n",
    "create_logfile(filename)\n",
    "\n",
    "num_topics = 5\n",
    "chunksize = 1000\n",
    "passes = 300\n",
    "iterations = 10000\n",
    "random_state = 973525\n",
    "\n",
    "\n",
    "lda_model = LdaModel(\n",
    "         corpus=corpus,\n",
    "         id2word=id2word,\n",
    "         num_topics=num_topics,\n",
    "         passes=passes,\n",
    "         iterations=iterations,\n",
    "         chunksize=chunksize,\n",
    "         alpha='auto',\n",
    "         eta='auto',\n",
    "         random_state=random_state\n",
    ")\n",
    "\n",
    "plot_passes(filename, passes)\n",
    "print(f'{num_topics} Topics:')\n",
    "lda_model.print_topics(num_words=25)"
   ]
  },
  {
   "cell_type": "code",
   "execution_count": 65,
   "metadata": {},
   "outputs": [
    {
     "name": "stdout",
     "output_type": "stream",
     "text": [
      "\n",
      "Coherence Score:  0.4128085847617268\n"
     ]
    }
   ],
   "source": [
    "# Coherence Score"
   ]
  },
  {
   "cell_type": "code",
   "execution_count": 77,
   "metadata": {},
   "outputs": [],
   "source": [
    "# Get topic distributions of some songs\n",
    "def get_topic_from_song(title):\n",
    "    doc = docs[all_songs.index[all_songs['Title']==title][0]]\n",
    "    song_corpus = dictionary.doc2bow(doc)\n",
    "    prob_distribution = lda_model[song_corpus]\n",
    "    topic = max(prob_distribution,key=itemgetter(1))[0]\n",
    "    if topic == 0:\n",
    "        return 'Leben & Lieben'\n",
    "    elif topic == 1:\n",
    "        return 'Kriminalität'\n",
    "    elif topic == 2:\n",
    "        return 'Sex & Party'\n",
    "    elif topic == 3:\n",
    "        return 'Status'\n",
    "    else:\n",
    "        return 'Rap'"
   ]
  },
  {
   "cell_type": "code",
   "execution_count": 119,
   "metadata": {},
   "outputs": [
    {
     "data": {
      "text/plain": [
       "'Sex & Party'"
      ]
     },
     "execution_count": 119,
     "metadata": {},
     "output_type": "execute_result"
    }
   ],
   "source": [
    "get_topic_from_song('Funky')"
   ]
  },
  {
   "cell_type": "code",
   "execution_count": 121,
   "metadata": {},
   "outputs": [],
   "source": [
    "def get_coherence_score():\n",
    "    coherence_model_lda = CoherenceModel(model=lda_model, texts=docs, dictionary=dictionary, coherence='c_v')\n",
    "    coherence_lda = coherence_model_lda.get_coherence()\n",
    "    return coherence_lda"
   ]
  }
 ],
 "metadata": {
  "kernelspec": {
   "display_name": "Python 3",
   "language": "python",
   "name": "python3"
  },
  "language_info": {
   "codemirror_mode": {
    "name": "ipython",
    "version": 3
   },
   "file_extension": ".py",
   "mimetype": "text/x-python",
   "name": "python",
   "nbconvert_exporter": "python",
   "pygments_lexer": "ipython3",
   "version": "3.7.0"
  }
 },
 "nbformat": 4,
 "nbformat_minor": 2
}
